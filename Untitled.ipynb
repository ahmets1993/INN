{
 "cells": [
  {
   "cell_type": "code",
   "execution_count": null,
   "id": "133366cc",
   "metadata": {},
   "outputs": [
    {
     "name": "stdout",
     "output_type": "stream",
     "text": [
      "NUMBER OF ALL COLLISIONS:  1862992\n",
      "\n",
      "Number of Rows\n",
      "2022:  (7762, 32) \n",
      "2012:  (100545, 32)\n",
      "Number of Rows :  100545\n",
      "Number of Rows :  203734\n",
      "Number of Rows :  206033\n",
      "Number of Rows :  217694\n",
      "Number of Rows :  229831\n",
      "Number of Rows :  231007\n",
      "Number of Rows :  231562\n",
      "Number of Rows :  211485\n",
      "Number of Rows :  112898\n",
      "Number of Rows :  110440\n",
      "Number of Rows :  7762\n",
      "\n",
      "Scaled 2012:  (100545, 5)\n",
      "\n",
      "Scaled 2012:  (203734, 5)\n",
      "\n",
      "Scaled 2012:  (206033, 5)\n",
      "\n",
      "Scaled 2012:  (217694, 5)\n",
      "\n",
      "Scaled 2012:  (229831, 5)\n",
      "\n",
      "Scaled 2012:  (231007, 5)\n",
      "\n",
      "Scaled 2012:  (231562, 5)\n",
      "\n",
      "Scaled 2012:  (211485, 5)\n",
      "\n",
      "Scaled 2012:  (112898, 5)\n",
      "\n",
      "Scaled 2012:  (110440, 5)\n",
      "\n",
      "Scaled 2012:  (7762, 5)\n",
      "Dash is running on http://127.0.0.1:8050/\n",
      "\n",
      "Dash is running on http://127.0.0.1:8050/\n",
      "\n",
      " * Serving Flask app \"__main__\" (lazy loading)\n",
      " * Environment: production\n",
      "   WARNING: This is a development server. Do not use it in a production deployment.\n",
      "   Use a production WSGI server instead.\n",
      " * Debug mode: off\n"
     ]
    },
    {
     "name": "stderr",
     "output_type": "stream",
     "text": [
      " * Running on http://127.0.0.1:8050/ (Press CTRL+C to quit)\n",
      "127.0.0.1 - - [29/Mar/2022 12:01:38] \"GET / HTTP/1.1\" 200 -\n",
      "127.0.0.1 - - [29/Mar/2022 12:01:38] \"GET /_dash-layout HTTP/1.1\" 200 -\n",
      "127.0.0.1 - - [29/Mar/2022 12:01:38] \"GET /_dash-dependencies HTTP/1.1\" 200 -\n",
      "127.0.0.1 - - [29/Mar/2022 12:01:38] \"GET /_dash-component-suites/dash/dcc/async-dropdown.js HTTP/1.1\" 200 -\n",
      "127.0.0.1 - - [29/Mar/2022 12:01:38] \"GET /_dash-component-suites/dash/dcc/async-graph.js HTTP/1.1\" 200 -\n",
      "127.0.0.1 - - [29/Mar/2022 12:01:38] \"GET /_dash-component-suites/dash/dcc/async-plotlyjs.js HTTP/1.1\" 200 -\n",
      "127.0.0.1 - - [29/Mar/2022 12:01:38] \"POST /_dash-update-component HTTP/1.1\" 200 -\n",
      "127.0.0.1 - - [29/Mar/2022 12:01:38] \"POST /_dash-update-component HTTP/1.1\" 200 -\n",
      "127.0.0.1 - - [29/Mar/2022 12:01:38] \"POST /_dash-update-component HTTP/1.1\" 200 -\n",
      "127.0.0.1 - - [29/Mar/2022 12:01:44] \"POST /_dash-update-component HTTP/1.1\" 200 -\n",
      "127.0.0.1 - - [29/Mar/2022 12:02:03] \"GET / HTTP/1.1\" 200 -\n",
      "127.0.0.1 - - [29/Mar/2022 12:02:03] \"GET /_dash-layout HTTP/1.1\" 200 -\n",
      "127.0.0.1 - - [29/Mar/2022 12:02:03] \"GET /_dash-dependencies HTTP/1.1\" 200 -\n",
      "127.0.0.1 - - [29/Mar/2022 12:02:03] \"GET /_dash-component-suites/dash/dcc/async-dropdown.js HTTP/1.1\" 200 -\n",
      "127.0.0.1 - - [29/Mar/2022 12:02:03] \"POST /_dash-update-component HTTP/1.1\" 200 -\n",
      "127.0.0.1 - - [29/Mar/2022 12:02:03] \"GET /_dash-component-suites/dash/dcc/async-graph.js HTTP/1.1\" 200 -\n",
      "127.0.0.1 - - [29/Mar/2022 12:02:03] \"GET /_dash-component-suites/dash/dcc/async-plotlyjs.js HTTP/1.1\" 200 -\n",
      "127.0.0.1 - - [29/Mar/2022 12:02:03] \"POST /_dash-update-component HTTP/1.1\" 200 -\n",
      "127.0.0.1 - - [29/Mar/2022 12:02:03] \"POST /_dash-update-component HTTP/1.1\" 200 -\n",
      "127.0.0.1 - - [29/Mar/2022 12:02:08] \"POST /_dash-update-component HTTP/1.1\" 200 -\n",
      "127.0.0.1 - - [29/Mar/2022 12:02:16] \"POST /_dash-update-component HTTP/1.1\" 200 -\n",
      "127.0.0.1 - - [29/Mar/2022 12:02:22] \"POST /_dash-update-component HTTP/1.1\" 200 -\n",
      "127.0.0.1 - - [29/Mar/2022 12:02:33] \"POST /_dash-update-component HTTP/1.1\" 200 -\n"
     ]
    }
   ],
   "source": [
    "from dash import Dash, dcc, html, Input, Output\n",
    "from sqlalchemy import create_engine\n",
    "import plotly.graph_objects as go\n",
    "import plotly.express as px\n",
    "import pymysql\n",
    "import pandas as pd\n",
    "\n",
    "\n",
    "import dash\n",
    "import dash_bootstrap_components as dbc\n",
    "import dash_html_components as html\n",
    "import dash_core_components as dcc\n",
    "\n",
    "\n",
    "import json\n",
    "import cufflinks as cf\n",
    "import plotly\n",
    "import plotly.offline as py\n",
    "\n",
    "\n",
    "import plotly.graph_objs as go\n",
    "from dash.dependencies import Output, Input, State\n",
    "\n",
    "\n",
    "\n",
    "\n",
    "    \n",
    "username = \"root\"\n",
    "password = \"root\"\n",
    "port = 3306\n",
    "database = \"innolab\"\n",
    "\n",
    "engine = create_engine('mysql+mysqldb://%s:%s@localhost:%i/%s'\n",
    "                       %(username, password, port, database))\n",
    "\n",
    "\n",
    "sql = \"SELECT * FROM nyc_collisions;\"\n",
    "df = pd.read_sql_query(sql, engine)\n",
    "\n",
    "total_rows = len(df.index)\n",
    "total_rows += 1\n",
    "print('NUMBER OF ALL COLLISIONS: ', total_rows)\n",
    "\n",
    "df[[\"month\", \"day\", \"year\"]] = df[\"CRASH_DATE\"].str.split(\"/\", expand = True)\n",
    "\n",
    "\n",
    "\n",
    "df_2012 = df[df['year'] == '2012']\n",
    "df_2013 = df[df['year'] == '2013']\n",
    "df_2014 = df[df['year'] == '2014']\n",
    "df_2015 = df[df['year'] == '2015']\n",
    "df_2016 = df[df['year'] == '2016']\n",
    "df_2017 = df[df['year'] == '2017']\n",
    "df_2018 = df[df['year'] == '2018']\n",
    "df_2019 = df[df['year'] == '2019']\n",
    "df_2020 = df[df['year'] == '2020']\n",
    "df_2021 = df[df['year'] == '2021']\n",
    "df_2022 = df[df['year'] == '2022']\n",
    "\n",
    "print(\"\\nNumber of Rows\\n2022: \",df_2022.shape,\"\\n2012: \",df_2012.shape)\n",
    "\n",
    "\n",
    "\n",
    "df_2012_month = df_2012[['month', 'year', 'day', 'NUMBER_OF_PERSONS_KILLED']]\n",
    "df_2013_month = df_2013[['month', 'year', 'day', 'NUMBER_OF_PERSONS_KILLED']]\n",
    "df_2014_month = df_2014[['month', 'year', 'day', 'NUMBER_OF_PERSONS_KILLED']]\n",
    "df_2015_month = df_2015[['month', 'year', 'day', 'NUMBER_OF_PERSONS_KILLED']]\n",
    "df_2016_month = df_2016[['month', 'year', 'day', 'NUMBER_OF_PERSONS_KILLED']]\n",
    "df_2017_month = df_2017[['month', 'year', 'day', 'NUMBER_OF_PERSONS_KILLED']]\n",
    "df_2018_month = df_2018[['month', 'year', 'day', 'NUMBER_OF_PERSONS_KILLED']]\n",
    "df_2019_month = df_2019[['month', 'year', 'day', 'NUMBER_OF_PERSONS_KILLED']]\n",
    "df_2020_month = df_2020[['month', 'year', 'day', 'NUMBER_OF_PERSONS_KILLED']]\n",
    "df_2021_month = df_2021[['month', 'year', 'day', 'NUMBER_OF_PERSONS_KILLED']]\n",
    "df_2022_month = df_2022[['month', 'year', 'day', 'NUMBER_OF_PERSONS_KILLED']]\n",
    "\n",
    "rows_2012 = len(df_2012.axes[0])\n",
    "rows_2013 = len(df_2013.axes[0])\n",
    "rows_2014 = len(df_2014.axes[0])\n",
    "rows_2015 = len(df_2015.axes[0])\n",
    "rows_2016 = len(df_2016.axes[0])\n",
    "rows_2017 = len(df_2017.axes[0])\n",
    "rows_2018 = len(df_2018.axes[0])\n",
    "rows_2019 = len(df_2019.axes[0])\n",
    "rows_2020 = len(df_2020.axes[0])\n",
    "rows_2021 = len(df_2021.axes[0])\n",
    "rows_2022 = len(df_2022.axes[0])\n",
    "\n",
    "print('Number of Rows : ',rows_2012)\n",
    "print('Number of Rows : ',rows_2013)\n",
    "print('Number of Rows : ',rows_2014)\n",
    "print('Number of Rows : ',rows_2015)\n",
    "print('Number of Rows : ',rows_2016)\n",
    "print('Number of Rows : ',rows_2017)\n",
    "print('Number of Rows : ',rows_2018)\n",
    "print('Number of Rows : ',rows_2019)\n",
    "print('Number of Rows : ',rows_2020)\n",
    "print('Number of Rows : ',rows_2021)\n",
    "print('Number of Rows : ',rows_2022)\n",
    "\n",
    "\n",
    "fig_2012_bar = px.bar(df_2012_month, x=\"month\", y=\"NUMBER_OF_PERSONS_KILLED\", title='Life expectancy in Canada')\n",
    "fig_2013_bar = px.bar(df_2013_month, x=\"month\", y=\"NUMBER_OF_PERSONS_KILLED\", title='Life expectancy in Canada')\n",
    "fig_2014_bar = px.bar(df_2014_month, x=\"month\", y=\"NUMBER_OF_PERSONS_KILLED\", title='Life expectancy in Canada')\n",
    "fig_2015_bar = px.bar(df_2015_month, x=\"month\", y=\"NUMBER_OF_PERSONS_KILLED\", title='Life expectancy in Canada')\n",
    "fig_2016_bar = px.bar(df_2016_month, x=\"month\", y=\"NUMBER_OF_PERSONS_KILLED\", title='Life expectancy in Canada')\n",
    "fig_2017_bar = px.bar(df_2017_month, x=\"month\", y=\"NUMBER_OF_PERSONS_KILLED\", title='Life expectancy in Canada')\n",
    "fig_2018_bar = px.bar(df_2018_month, x=\"month\", y=\"NUMBER_OF_PERSONS_KILLED\", title='Life expectancy in Canada')\n",
    "fig_2019_bar = px.bar(df_2019_month, x=\"month\", y=\"NUMBER_OF_PERSONS_KILLED\", title='Life expectancy in Canada')\n",
    "fig_2020_bar = px.bar(df_2020_month, x=\"month\", y=\"NUMBER_OF_PERSONS_KILLED\", title='Life expectancy in Canada')\n",
    "fig_2021_bar = px.bar(df_2021_month, x=\"month\", y=\"NUMBER_OF_PERSONS_KILLED\", title='Life expectancy in Canada')\n",
    "fig_2022_bar = px.bar(df_2022_month, x=\"month\", y=\"NUMBER_OF_PERSONS_KILLED\", title='Life expectancy in Canada')\n",
    "\n",
    "\n",
    "\n",
    "df_2012_scaled = df_2012[[\"ON_STREET_NAME\", \"LATITUDE\", \"LONGITUDE\", \"NUMBER_OF_PERSONS_INJURED\", \"NUMBER_OF_PERSONS_KILLED\"]]\n",
    "df_2013_scaled = df_2013[[\"ON_STREET_NAME\", \"LATITUDE\", \"LONGITUDE\", \"NUMBER_OF_PERSONS_INJURED\", \"NUMBER_OF_PERSONS_KILLED\"]]\n",
    "df_2014_scaled = df_2014[[\"ON_STREET_NAME\", \"LATITUDE\", \"LONGITUDE\", \"NUMBER_OF_PERSONS_INJURED\", \"NUMBER_OF_PERSONS_KILLED\"]]\n",
    "df_2015_scaled = df_2015[[\"ON_STREET_NAME\", \"LATITUDE\", \"LONGITUDE\", \"NUMBER_OF_PERSONS_INJURED\", \"NUMBER_OF_PERSONS_KILLED\"]]\n",
    "df_2016_scaled = df_2016[[\"ON_STREET_NAME\", \"LATITUDE\", \"LONGITUDE\", \"NUMBER_OF_PERSONS_INJURED\", \"NUMBER_OF_PERSONS_KILLED\"]]\n",
    "df_2017_scaled = df_2017[[\"ON_STREET_NAME\", \"LATITUDE\", \"LONGITUDE\", \"NUMBER_OF_PERSONS_INJURED\", \"NUMBER_OF_PERSONS_KILLED\"]]\n",
    "df_2018_scaled = df_2018[[\"ON_STREET_NAME\", \"LATITUDE\", \"LONGITUDE\", \"NUMBER_OF_PERSONS_INJURED\", \"NUMBER_OF_PERSONS_KILLED\"]]\n",
    "df_2019_scaled = df_2019[[\"ON_STREET_NAME\", \"LATITUDE\", \"LONGITUDE\", \"NUMBER_OF_PERSONS_INJURED\", \"NUMBER_OF_PERSONS_KILLED\"]]\n",
    "df_2020_scaled = df_2020[[\"ON_STREET_NAME\", \"LATITUDE\", \"LONGITUDE\", \"NUMBER_OF_PERSONS_INJURED\", \"NUMBER_OF_PERSONS_KILLED\"]]\n",
    "df_2021_scaled = df_2021[[\"ON_STREET_NAME\", \"LATITUDE\", \"LONGITUDE\", \"NUMBER_OF_PERSONS_INJURED\", \"NUMBER_OF_PERSONS_KILLED\"]]\n",
    "df_2022_scaled = df_2022[[\"ON_STREET_NAME\", \"LATITUDE\", \"LONGITUDE\", \"NUMBER_OF_PERSONS_INJURED\", \"NUMBER_OF_PERSONS_KILLED\"]]\n",
    "\n",
    "print(\"\\nScaled 2012: \",df_2012_scaled.shape)\n",
    "print(\"\\nScaled 2013: \",df_2013_scaled.shape)\n",
    "print(\"\\nScaled 2014: \",df_2014_scaled.shape)\n",
    "print(\"\\nScaled 2015: \",df_2015_scaled.shape)\n",
    "print(\"\\nScaled 2016: \",df_2016_scaled.shape)\n",
    "print(\"\\nScaled 2017: \",df_2017_scaled.shape)\n",
    "print(\"\\nScaled 2018: \",df_2018_scaled.shape)\n",
    "print(\"\\nScaled 2019: \",df_2019_scaled.shape)\n",
    "print(\"\\nScaled 2020: \",df_2020_scaled.shape)\n",
    "print(\"\\nScaled 2021: \",df_2021_scaled.shape)\n",
    "print(\"\\nScaled 2022: \",df_2022_scaled.shape)\n",
    "\n",
    "head_list=['COLLISION ID', 'CRASH DATE', 'CRASH TIME', 'LATITUDE', 'LONGITUDE','BOROUGH', 'NUMBER OF PERSONS INJURED', 'NUMBER OF PERSONS KILLED']\n",
    "\n",
    "fig_2012 = go.Figure(data=[go.Table(\n",
    "    header=dict(values=list(head_list), align='left'),\n",
    "    cells=dict(values=[df_2012.COLLISION_ID, df_2012.CRASH_DATE, df_2012.CRASH_TIME, \n",
    "                       df_2012.LATITUDE, df_2012.LONGITUDE, df_2012.BOROUGH, df_2012.NUMBER_OF_PERSONS_INJURED, \n",
    "                       df_2012.NUMBER_OF_PERSONS_KILLED], align='left'))])\n",
    "\n",
    "fig_2013 = go.Figure(data=[go.Table(\n",
    "    header=dict(values=list(head_list), align='left'),\n",
    "    cells=dict(values=[df_2013.COLLISION_ID, df_2013.CRASH_DATE, df_2013.CRASH_TIME, \n",
    "                       df_2013.LATITUDE, df_2013.LONGITUDE, df_2013.BOROUGH, df_2013.NUMBER_OF_PERSONS_INJURED, \n",
    "                       df_2013.NUMBER_OF_PERSONS_KILLED], align='left'))])\n",
    "\n",
    "fig_2014 = go.Figure(data=[go.Table(\n",
    "    header=dict(values=list(head_list), align='left'),\n",
    "    cells=dict(values=[df_2014.COLLISION_ID, df_2014.CRASH_DATE, df_2014.CRASH_TIME, \n",
    "                       df_2014.LATITUDE, df_2014.LONGITUDE, df_2014.BOROUGH, df_2014.NUMBER_OF_PERSONS_INJURED, \n",
    "                       df_2014.NUMBER_OF_PERSONS_KILLED], align='left'))])\n",
    "\n",
    "fig_2015 = go.Figure(data=[go.Table(\n",
    "    header=dict(values=list(head_list), align='left'),\n",
    "    cells=dict(values=[df_2015.COLLISION_ID, df_2015.CRASH_DATE, df_2015.CRASH_TIME, \n",
    "                       df_2015.LATITUDE, df_2015.LONGITUDE, df_2015.BOROUGH, df_2015.NUMBER_OF_PERSONS_INJURED, \n",
    "                       df_2016.NUMBER_OF_PERSONS_KILLED], align='left'))])\n",
    "\n",
    "\n",
    "fig_2016 = go.Figure(data=[go.Table(\n",
    "    header=dict(values=list(head_list), align='left'),\n",
    "    cells=dict(values=[df_2016.COLLISION_ID, df_2016.CRASH_DATE, df_2016.CRASH_TIME, \n",
    "                       df_2016.LATITUDE, df_2016.LONGITUDE, df_2016.BOROUGH, df_2016.NUMBER_OF_PERSONS_INJURED, \n",
    "                       df_2016.NUMBER_OF_PERSONS_KILLED], align='left'))])\n",
    "\n",
    "fig_2017 = go.Figure(data=[go.Table(\n",
    "    header=dict(values=list(head_list), align='left'),\n",
    "    cells=dict(values=[df_2017.COLLISION_ID, df_2017.CRASH_DATE, df_2017.CRASH_TIME, \n",
    "                       df_2017.LATITUDE, df_2017.LONGITUDE, df_2017.BOROUGH, df_2017.NUMBER_OF_PERSONS_INJURED, \n",
    "                       df_2017.NUMBER_OF_PERSONS_KILLED], align='left'))])\n",
    "\n",
    "fig_2018 = go.Figure(data=[go.Table(\n",
    "    header=dict(values=list(head_list), align='left'),\n",
    "    cells=dict(values=[df_2018.COLLISION_ID, df_2018.CRASH_DATE, df_2018.CRASH_TIME, \n",
    "                       df_2018.LATITUDE, df_2018.LONGITUDE, df_2018.BOROUGH, df_2018.NUMBER_OF_PERSONS_INJURED, \n",
    "                       df_2018.NUMBER_OF_PERSONS_KILLED], align='left'))])\n",
    "\n",
    "fig_2019 = go.Figure(data=[go.Table(\n",
    "    header=dict(values=list(head_list), align='left'),\n",
    "    cells=dict(values=[df_2019.COLLISION_ID, df_2019.CRASH_DATE, df_2019.CRASH_TIME, \n",
    "                       df_2019.LATITUDE, df_2019.LONGITUDE, df_2019.BOROUGH, df_2019.NUMBER_OF_PERSONS_INJURED, \n",
    "                       df_2019.NUMBER_OF_PERSONS_KILLED], align='left'))])\n",
    "\n",
    "fig_2020 = go.Figure(data=[go.Table(\n",
    "    header=dict(values=list(head_list), align='left'),\n",
    "    cells=dict(values=[df_2020.COLLISION_ID, df_2020.CRASH_DATE, df_2020.CRASH_TIME, \n",
    "                       df_2020.LATITUDE, df_2020.LONGITUDE, df_2020.BOROUGH, df_2020.NUMBER_OF_PERSONS_INJURED, \n",
    "                       df_2020.NUMBER_OF_PERSONS_KILLED], align='left'))])\n",
    "\n",
    "fig_2021 = go.Figure(data=[go.Table(\n",
    "    header=dict(values=list(head_list), align='left'),\n",
    "    cells=dict(values=[df_2021.COLLISION_ID, df_2021.CRASH_DATE, df_2021.CRASH_TIME, \n",
    "                       df_2021.LATITUDE, df_2021.LONGITUDE, df_2021.BOROUGH, df_2021.NUMBER_OF_PERSONS_INJURED, \n",
    "                       df_2021.NUMBER_OF_PERSONS_KILLED], align='left'))])\n",
    "\n",
    "fig_2022 = go.Figure(data=[go.Table(\n",
    "    header=dict(values=list(head_list), align='left'),\n",
    "    cells=dict(values=[df_2022.COLLISION_ID, df_2022.CRASH_DATE, df_2022.CRASH_TIME, \n",
    "                       df_2022.LATITUDE, df_2022.LONGITUDE, df_2022.BOROUGH, df_2022.NUMBER_OF_PERSONS_INJURED, \n",
    "                       df_2022.NUMBER_OF_PERSONS_KILLED], align='left'))])\n",
    "\n",
    "\n",
    "\n",
    "\n",
    "\n",
    "fig_map_1 = px.scatter_mapbox(df_2012_scaled, lat=\"LATITUDE\", lon=\"LONGITUDE\", hover_name=\"ON_STREET_NAME\",\n",
    "                              hover_data=[\"NUMBER_OF_PERSONS_KILLED\", \"NUMBER_OF_PERSONS_INJURED\"],\n",
    "                        color_discrete_sequence=[\"fuchsia\"], zoom=3, height=300)\n",
    "fig_map_1.update_layout(mapbox_style=\"open-street-map\")\n",
    "fig_map_1.update_layout(margin={\"r\":0,\"t\":0,\"l\":0,\"b\":0})\n",
    "\n",
    "##################################\n",
    "\n",
    "fig_map_2 = px.scatter_mapbox(df_2013_scaled, lat=\"LATITUDE\", lon=\"LONGITUDE\", hover_name=\"ON_STREET_NAME\",\n",
    "                              hover_data=[\"NUMBER_OF_PERSONS_KILLED\", \"NUMBER_OF_PERSONS_INJURED\"],\n",
    "                        color_discrete_sequence=[\"fuchsia\"], zoom=3, height=300)\n",
    "fig_map_2.update_layout(mapbox_style=\"open-street-map\")\n",
    "fig_map_2.update_layout(margin={\"r\":0,\"t\":0,\"l\":0,\"b\":0})\n",
    "\n",
    "##################################\n",
    "\n",
    "fig_map_3 = px.scatter_mapbox(df_2014_scaled, lat=\"LATITUDE\", lon=\"LONGITUDE\", hover_name=\"ON_STREET_NAME\",\n",
    "                              hover_data=[\"NUMBER_OF_PERSONS_KILLED\", \"NUMBER_OF_PERSONS_INJURED\"],\n",
    "                        color_discrete_sequence=[\"fuchsia\"], zoom=3, height=300)\n",
    "fig_map_3.update_layout(mapbox_style=\"open-street-map\")\n",
    "fig_map_3.update_layout(margin={\"r\":0,\"t\":0,\"l\":0,\"b\":0})\n",
    "\n",
    "##################################\n",
    "\n",
    "fig_map_4 = px.scatter_mapbox(df_2015_scaled, lat=\"LATITUDE\", lon=\"LONGITUDE\", hover_name=\"ON_STREET_NAME\",\n",
    "                              hover_data=[\"NUMBER_OF_PERSONS_KILLED\", \"NUMBER_OF_PERSONS_INJURED\"],\n",
    "                        color_discrete_sequence=[\"fuchsia\"], zoom=3, height=300)\n",
    "fig_map_4.update_layout(mapbox_style=\"open-street-map\")\n",
    "fig_map_4.update_layout(margin={\"r\":0,\"t\":0,\"l\":0,\"b\":0})\n",
    "\n",
    "##################################\n",
    "\n",
    "fig_map_5 = px.scatter_mapbox(df_2016_scaled, lat=\"LATITUDE\", lon=\"LONGITUDE\", hover_name=\"ON_STREET_NAME\",\n",
    "                              hover_data=[\"NUMBER_OF_PERSONS_KILLED\", \"NUMBER_OF_PERSONS_INJURED\"],\n",
    "                        color_discrete_sequence=[\"fuchsia\"], zoom=3, height=300)\n",
    "fig_map_5.update_layout(mapbox_style=\"open-street-map\")\n",
    "fig_map_5.update_layout(margin={\"r\":0,\"t\":0,\"l\":0,\"b\":0})\n",
    "\n",
    "##################################\n",
    "\n",
    "fig_map_6 = px.scatter_mapbox(df_2017_scaled, lat=\"LATITUDE\", lon=\"LONGITUDE\", hover_name=\"ON_STREET_NAME\",\n",
    "                              hover_data=[\"NUMBER_OF_PERSONS_KILLED\", \"NUMBER_OF_PERSONS_INJURED\"],\n",
    "                        color_discrete_sequence=[\"fuchsia\"], zoom=3, height=300)\n",
    "fig_map_6.update_layout(mapbox_style=\"open-street-map\")\n",
    "fig_map_6.update_layout(margin={\"r\":0,\"t\":0,\"l\":0,\"b\":0})\n",
    "\n",
    "##################################\n",
    "\n",
    "fig_map_7 = px.scatter_mapbox(df_2018_scaled, lat=\"LATITUDE\", lon=\"LONGITUDE\", hover_name=\"ON_STREET_NAME\",\n",
    "                              hover_data=[\"NUMBER_OF_PERSONS_KILLED\", \"NUMBER_OF_PERSONS_INJURED\"],\n",
    "                        color_discrete_sequence=[\"fuchsia\"], zoom=3, height=300)\n",
    "fig_map_7.update_layout(mapbox_style=\"open-street-map\")\n",
    "fig_map_7.update_layout(margin={\"r\":0,\"t\":0,\"l\":0,\"b\":0})\n",
    "\n",
    "##################################\n",
    "\n",
    "fig_map_8 = px.scatter_mapbox(df_2019_scaled, lat=\"LATITUDE\", lon=\"LONGITUDE\", hover_name=\"ON_STREET_NAME\",\n",
    "                              hover_data=[\"NUMBER_OF_PERSONS_KILLED\", \"NUMBER_OF_PERSONS_INJURED\"],\n",
    "                        color_discrete_sequence=[\"fuchsia\"], zoom=3, height=300)\n",
    "fig_map_8.update_layout(mapbox_style=\"open-street-map\")\n",
    "fig_map_8.update_layout(margin={\"r\":0,\"t\":0,\"l\":0,\"b\":0})\n",
    "\n",
    "##################################\n",
    "\n",
    "fig_map_9 = px.scatter_mapbox(df_2020_scaled, lat=\"LATITUDE\", lon=\"LONGITUDE\", hover_name=\"ON_STREET_NAME\",\n",
    "                              hover_data=[\"NUMBER_OF_PERSONS_KILLED\", \"NUMBER_OF_PERSONS_INJURED\"],\n",
    "                        color_discrete_sequence=[\"fuchsia\"], zoom=3, height=300)\n",
    "fig_map_9.update_layout(mapbox_style=\"open-street-map\")\n",
    "fig_map_9.update_layout(margin={\"r\":0,\"t\":0,\"l\":0,\"b\":0})\n",
    "\n",
    "##################################\n",
    "\n",
    "fig_map_10 = px.scatter_mapbox(df_2021_scaled, lat=\"LATITUDE\", lon=\"LONGITUDE\", hover_name=\"ON_STREET_NAME\",\n",
    "                              hover_data=[\"NUMBER_OF_PERSONS_KILLED\", \"NUMBER_OF_PERSONS_INJURED\"],\n",
    "                        color_discrete_sequence=[\"fuchsia\"], zoom=3, height=300)\n",
    "fig_map_10.update_layout(mapbox_style=\"open-street-map\")\n",
    "fig_map_10.update_layout(margin={\"r\":0,\"t\":0,\"l\":0,\"b\":0})\n",
    "\n",
    "##################################\n",
    "\n",
    "fig_map_11 = px.scatter_mapbox(df_2022_scaled, lat=\"LATITUDE\", lon=\"LONGITUDE\", hover_name=\"ON_STREET_NAME\",\n",
    "                              hover_data=[\"NUMBER_OF_PERSONS_KILLED\", \"NUMBER_OF_PERSONS_INJURED\"],\n",
    "                        color_discrete_sequence=[\"fuchsia\"], zoom=3, height=300)\n",
    "fig_map_11.update_layout(mapbox_style=\"open-street-map\")\n",
    "fig_map_11.update_layout(margin={\"r\":0,\"t\":0,\"l\":0,\"b\":0})\n",
    "\n",
    "\n",
    "\n",
    "fig_2012.update_layout(title_text='DATA FROM 2012',  title_x=0.5)\n",
    "fig_2013.update_layout(title_text='DATA FROM 2013',  title_x=0.5)\n",
    "fig_2014.update_layout(title_text='DATA FROM 2014',  title_x=0.5)\n",
    "fig_2015.update_layout(title_text='DATA FROM 2015',  title_x=0.5)\n",
    "fig_2016.update_layout(title_text='DATA FROM 2016',  title_x=0.5)\n",
    "fig_2017.update_layout(title_text='DATA FROM 2017',  title_x=0.5)\n",
    "fig_2018.update_layout(title_text='DATA FROM 2018',  title_x=0.5)\n",
    "fig_2019.update_layout(title_text='DATA FROM 2019',  title_x=0.5)\n",
    "fig_2020.update_layout(title_text='DATA FROM 2020',  title_x=0.5)\n",
    "fig_2021.update_layout(title_text='DATA FROM 2021',  title_x=0.5)\n",
    "fig_2022.update_layout(title_text='DATA FROM 2022',  title_x=0.5)\n",
    "\n",
    "\n",
    "app = Dash(__name__)\n",
    "\n",
    "app.layout = html.Div([\n",
    "    html.Br(),\n",
    "    dcc.Dropdown(\n",
    "        id=\"dropdown\",\n",
    "        options=[\n",
    "                {'label' : '2012', 'value': '2012'},\n",
    "                {'label' : '2013', 'value': '2013'},\n",
    "                {'label' : '2014', 'value': '2014'},\n",
    "                {'label' : '2015', 'value': '2015'},\n",
    "                {'label' : '2016', 'value': '2016'},\n",
    "                {'label' : '2017', 'value': '2017'},\n",
    "                {'label' : '2018', 'value': '2018'},\n",
    "                {'label' : '2019', 'value': '2019'},\n",
    "                {'label' : '2020', 'value': '2020'},\n",
    "                {'label' : '2021', 'value': '2021'},\n",
    "                {'label' : '2022', 'value': '2022'},\n",
    "        ],\n",
    "        value=['2022'],\n",
    "    ),\n",
    "    dcc.Graph(id=\"graph\"),\n",
    "    html.Br(),\n",
    "    dcc.Dropdown(\n",
    "        id=\"dropdown-2\",\n",
    "        options=[\n",
    "                {'label' : '2012', 'value': '2012'},\n",
    "                {'label' : '2013', 'value': '2013'},\n",
    "                {'label' : '2014', 'value': '2014'},\n",
    "                {'label' : '2015', 'value': '2015'},\n",
    "                {'label' : '2016', 'value': '2016'},\n",
    "                {'label' : '2017', 'value': '2017'},\n",
    "                {'label' : '2018', 'value': '2018'},\n",
    "                {'label' : '2019', 'value': '2019'},\n",
    "                {'label' : '2020', 'value': '2020'},\n",
    "                {'label' : '2021', 'value': '2021'},\n",
    "                {'label' : '2022', 'value': '2022'},\n",
    "        ],\n",
    "        value=['2022'],\n",
    "    ),\n",
    "    dcc.Graph(id=\"graph-2\"),\n",
    "      html.Br(),\n",
    "    dcc.Dropdown(\n",
    "        id=\"dropdown-3\",\n",
    "        options=[\n",
    "                {'label' : '2012', 'value': '2012'},\n",
    "                {'label' : '2013', 'value': '2013'},\n",
    "                {'label' : '2014', 'value': '2014'},\n",
    "                {'label' : '2015', 'value': '2015'},\n",
    "                {'label' : '2016', 'value': '2016'},\n",
    "                {'label' : '2017', 'value': '2017'},\n",
    "                {'label' : '2018', 'value': '2018'},\n",
    "                {'label' : '2019', 'value': '2019'},\n",
    "                {'label' : '2020', 'value': '2020'},\n",
    "                {'label' : '2021', 'value': '2021'},\n",
    "                {'label' : '2022', 'value': '2022'},\n",
    "        ],\n",
    "        value=['2022'],\n",
    "    ),\n",
    "    dcc.Graph(id=\"graph-3\"),\n",
    "     \n",
    "])\n",
    "\n",
    "\n",
    "\n",
    "@app.callback(\n",
    "    Output(\"graph\", \"figure\"), \n",
    "    Input(\"dropdown\", \"value\"))\n",
    "def update_figure(value):\n",
    "        fig = '2022'\n",
    "        if value == '2012':\n",
    "            fig = fig_2012\n",
    "        elif value == '2013':\n",
    "            fig = fig_2013\n",
    "        elif value == '2014':\n",
    "            fig = fig_2014\n",
    "        elif value == '2015':\n",
    "            fig = fig_2015\n",
    "        elif value == '2016':\n",
    "            fig = fig_2016\n",
    "        elif value == '2017':\n",
    "            fig = fig_2017\n",
    "        elif value == '2018':\n",
    "            fig = fig_2018\n",
    "        elif value == '2019':\n",
    "            fig = fig_2019\n",
    "        elif value == '2020':\n",
    "            fig = fig_2020\n",
    "        elif value == '2021':\n",
    "            fig = fig_2021\n",
    "        elif value == '2022':\n",
    "            fig = fig_2022\n",
    "        return fig\n",
    "\n",
    "    \n",
    "\n",
    "@app.callback(\n",
    "    Output(\"graph-2\", \"figure\"), \n",
    "    Input(\"dropdown-2\", \"value\"))\n",
    "def update_figure(value):\n",
    "        fig = '2022'\n",
    "        if value == '2012':\n",
    "            fig = fig_map_1\n",
    "        elif value == '2013':\n",
    "            fig = fig_map_2\n",
    "        elif value == '2014':\n",
    "            fig = fig_map_3\n",
    "        elif value == '2015':\n",
    "            fig = fig_map_4\n",
    "        elif value == '2016':\n",
    "            fig = fig_map_5\n",
    "        elif value == '2017':\n",
    "            fig = fig_map_6\n",
    "        elif value == '2018':\n",
    "            fig = fig_map_7\n",
    "        elif value == '2019':\n",
    "            fig = fig_map_8\n",
    "        elif value == '2020':\n",
    "            fig = fig_map_9\n",
    "        elif value == '2021':\n",
    "            fig = fig_map_10\n",
    "        elif value == '2022':\n",
    "            fig = fig_map_11\n",
    "        return fig\n",
    "    \n",
    "    \n",
    "\n",
    "@app.callback(\n",
    "    Output(\"graph-3\", \"figure\"), \n",
    "    Input(\"dropdown-3\", \"value\"))\n",
    "def update_figure(value):\n",
    "        fig = '2022'\n",
    "        if value == '2012':\n",
    "            fig = fig_2012_bar\n",
    "        elif value == '2013':\n",
    "            fig = fig_2013_bar\n",
    "        elif value == '2014':\n",
    "            fig = fig_2014_bar\n",
    "        elif value == '2015':\n",
    "            fig = fig_2015_bar\n",
    "        elif value == '2016':\n",
    "            fig = fig_2016_bar\n",
    "        elif value == '2017':\n",
    "            fig = fig_2017_bar\n",
    "        elif value == '2018':\n",
    "            fig = fig_2018_bar\n",
    "        elif value == '2019':\n",
    "            fig = fig_2019_bar\n",
    "        elif value == '2020':\n",
    "            fig = fig_2020_bar\n",
    "        elif value == '2021':\n",
    "            fig = fig_2021_bar\n",
    "        elif value == '2022':\n",
    "            fig = fig_2022_bar\n",
    "        return fig\n",
    "\n",
    "\n",
    "app.run_server(debug=False)\n",
    "\n"
   ]
  },
  {
   "cell_type": "code",
   "execution_count": null,
   "id": "9c27d9bb",
   "metadata": {},
   "outputs": [],
   "source": []
  },
  {
   "cell_type": "code",
   "execution_count": 6,
   "id": "e63b00c5",
   "metadata": {},
   "outputs": [
    {
     "data": {
      "application/vnd.plotly.v1+json": {
       "config": {
        "plotlyServerURL": "https://plot.ly"
       },
       "data": [
        {
         "name": "Data 1",
         "type": "bar",
         "x": [
          "A",
          "B",
          "C",
          "D"
         ],
         "y": [
          100,
          200,
          500,
          673
         ]
        },
        {
         "name": "Data 2",
         "type": "bar",
         "x": [
          "A",
          "B",
          "C",
          "D"
         ],
         "y": [
          56,
          123,
          982,
          213
         ]
        }
       ],
       "layout": {
        "template": {
         "data": {
          "bar": [
           {
            "error_x": {
             "color": "#2a3f5f"
            },
            "error_y": {
             "color": "#2a3f5f"
            },
            "marker": {
             "line": {
              "color": "#E5ECF6",
              "width": 0.5
             },
             "pattern": {
              "fillmode": "overlay",
              "size": 10,
              "solidity": 0.2
             }
            },
            "type": "bar"
           }
          ],
          "barpolar": [
           {
            "marker": {
             "line": {
              "color": "#E5ECF6",
              "width": 0.5
             },
             "pattern": {
              "fillmode": "overlay",
              "size": 10,
              "solidity": 0.2
             }
            },
            "type": "barpolar"
           }
          ],
          "carpet": [
           {
            "aaxis": {
             "endlinecolor": "#2a3f5f",
             "gridcolor": "white",
             "linecolor": "white",
             "minorgridcolor": "white",
             "startlinecolor": "#2a3f5f"
            },
            "baxis": {
             "endlinecolor": "#2a3f5f",
             "gridcolor": "white",
             "linecolor": "white",
             "minorgridcolor": "white",
             "startlinecolor": "#2a3f5f"
            },
            "type": "carpet"
           }
          ],
          "choropleth": [
           {
            "colorbar": {
             "outlinewidth": 0,
             "ticks": ""
            },
            "type": "choropleth"
           }
          ],
          "contour": [
           {
            "colorbar": {
             "outlinewidth": 0,
             "ticks": ""
            },
            "colorscale": [
             [
              0,
              "#0d0887"
             ],
             [
              0.1111111111111111,
              "#46039f"
             ],
             [
              0.2222222222222222,
              "#7201a8"
             ],
             [
              0.3333333333333333,
              "#9c179e"
             ],
             [
              0.4444444444444444,
              "#bd3786"
             ],
             [
              0.5555555555555556,
              "#d8576b"
             ],
             [
              0.6666666666666666,
              "#ed7953"
             ],
             [
              0.7777777777777778,
              "#fb9f3a"
             ],
             [
              0.8888888888888888,
              "#fdca26"
             ],
             [
              1,
              "#f0f921"
             ]
            ],
            "type": "contour"
           }
          ],
          "contourcarpet": [
           {
            "colorbar": {
             "outlinewidth": 0,
             "ticks": ""
            },
            "type": "contourcarpet"
           }
          ],
          "heatmap": [
           {
            "colorbar": {
             "outlinewidth": 0,
             "ticks": ""
            },
            "colorscale": [
             [
              0,
              "#0d0887"
             ],
             [
              0.1111111111111111,
              "#46039f"
             ],
             [
              0.2222222222222222,
              "#7201a8"
             ],
             [
              0.3333333333333333,
              "#9c179e"
             ],
             [
              0.4444444444444444,
              "#bd3786"
             ],
             [
              0.5555555555555556,
              "#d8576b"
             ],
             [
              0.6666666666666666,
              "#ed7953"
             ],
             [
              0.7777777777777778,
              "#fb9f3a"
             ],
             [
              0.8888888888888888,
              "#fdca26"
             ],
             [
              1,
              "#f0f921"
             ]
            ],
            "type": "heatmap"
           }
          ],
          "heatmapgl": [
           {
            "colorbar": {
             "outlinewidth": 0,
             "ticks": ""
            },
            "colorscale": [
             [
              0,
              "#0d0887"
             ],
             [
              0.1111111111111111,
              "#46039f"
             ],
             [
              0.2222222222222222,
              "#7201a8"
             ],
             [
              0.3333333333333333,
              "#9c179e"
             ],
             [
              0.4444444444444444,
              "#bd3786"
             ],
             [
              0.5555555555555556,
              "#d8576b"
             ],
             [
              0.6666666666666666,
              "#ed7953"
             ],
             [
              0.7777777777777778,
              "#fb9f3a"
             ],
             [
              0.8888888888888888,
              "#fdca26"
             ],
             [
              1,
              "#f0f921"
             ]
            ],
            "type": "heatmapgl"
           }
          ],
          "histogram": [
           {
            "marker": {
             "pattern": {
              "fillmode": "overlay",
              "size": 10,
              "solidity": 0.2
             }
            },
            "type": "histogram"
           }
          ],
          "histogram2d": [
           {
            "colorbar": {
             "outlinewidth": 0,
             "ticks": ""
            },
            "colorscale": [
             [
              0,
              "#0d0887"
             ],
             [
              0.1111111111111111,
              "#46039f"
             ],
             [
              0.2222222222222222,
              "#7201a8"
             ],
             [
              0.3333333333333333,
              "#9c179e"
             ],
             [
              0.4444444444444444,
              "#bd3786"
             ],
             [
              0.5555555555555556,
              "#d8576b"
             ],
             [
              0.6666666666666666,
              "#ed7953"
             ],
             [
              0.7777777777777778,
              "#fb9f3a"
             ],
             [
              0.8888888888888888,
              "#fdca26"
             ],
             [
              1,
              "#f0f921"
             ]
            ],
            "type": "histogram2d"
           }
          ],
          "histogram2dcontour": [
           {
            "colorbar": {
             "outlinewidth": 0,
             "ticks": ""
            },
            "colorscale": [
             [
              0,
              "#0d0887"
             ],
             [
              0.1111111111111111,
              "#46039f"
             ],
             [
              0.2222222222222222,
              "#7201a8"
             ],
             [
              0.3333333333333333,
              "#9c179e"
             ],
             [
              0.4444444444444444,
              "#bd3786"
             ],
             [
              0.5555555555555556,
              "#d8576b"
             ],
             [
              0.6666666666666666,
              "#ed7953"
             ],
             [
              0.7777777777777778,
              "#fb9f3a"
             ],
             [
              0.8888888888888888,
              "#fdca26"
             ],
             [
              1,
              "#f0f921"
             ]
            ],
            "type": "histogram2dcontour"
           }
          ],
          "mesh3d": [
           {
            "colorbar": {
             "outlinewidth": 0,
             "ticks": ""
            },
            "type": "mesh3d"
           }
          ],
          "parcoords": [
           {
            "line": {
             "colorbar": {
              "outlinewidth": 0,
              "ticks": ""
             }
            },
            "type": "parcoords"
           }
          ],
          "pie": [
           {
            "automargin": true,
            "type": "pie"
           }
          ],
          "scatter": [
           {
            "marker": {
             "colorbar": {
              "outlinewidth": 0,
              "ticks": ""
             }
            },
            "type": "scatter"
           }
          ],
          "scatter3d": [
           {
            "line": {
             "colorbar": {
              "outlinewidth": 0,
              "ticks": ""
             }
            },
            "marker": {
             "colorbar": {
              "outlinewidth": 0,
              "ticks": ""
             }
            },
            "type": "scatter3d"
           }
          ],
          "scattercarpet": [
           {
            "marker": {
             "colorbar": {
              "outlinewidth": 0,
              "ticks": ""
             }
            },
            "type": "scattercarpet"
           }
          ],
          "scattergeo": [
           {
            "marker": {
             "colorbar": {
              "outlinewidth": 0,
              "ticks": ""
             }
            },
            "type": "scattergeo"
           }
          ],
          "scattergl": [
           {
            "marker": {
             "colorbar": {
              "outlinewidth": 0,
              "ticks": ""
             }
            },
            "type": "scattergl"
           }
          ],
          "scattermapbox": [
           {
            "marker": {
             "colorbar": {
              "outlinewidth": 0,
              "ticks": ""
             }
            },
            "type": "scattermapbox"
           }
          ],
          "scatterpolar": [
           {
            "marker": {
             "colorbar": {
              "outlinewidth": 0,
              "ticks": ""
             }
            },
            "type": "scatterpolar"
           }
          ],
          "scatterpolargl": [
           {
            "marker": {
             "colorbar": {
              "outlinewidth": 0,
              "ticks": ""
             }
            },
            "type": "scatterpolargl"
           }
          ],
          "scatterternary": [
           {
            "marker": {
             "colorbar": {
              "outlinewidth": 0,
              "ticks": ""
             }
            },
            "type": "scatterternary"
           }
          ],
          "surface": [
           {
            "colorbar": {
             "outlinewidth": 0,
             "ticks": ""
            },
            "colorscale": [
             [
              0,
              "#0d0887"
             ],
             [
              0.1111111111111111,
              "#46039f"
             ],
             [
              0.2222222222222222,
              "#7201a8"
             ],
             [
              0.3333333333333333,
              "#9c179e"
             ],
             [
              0.4444444444444444,
              "#bd3786"
             ],
             [
              0.5555555555555556,
              "#d8576b"
             ],
             [
              0.6666666666666666,
              "#ed7953"
             ],
             [
              0.7777777777777778,
              "#fb9f3a"
             ],
             [
              0.8888888888888888,
              "#fdca26"
             ],
             [
              1,
              "#f0f921"
             ]
            ],
            "type": "surface"
           }
          ],
          "table": [
           {
            "cells": {
             "fill": {
              "color": "#EBF0F8"
             },
             "line": {
              "color": "white"
             }
            },
            "header": {
             "fill": {
              "color": "#C8D4E3"
             },
             "line": {
              "color": "white"
             }
            },
            "type": "table"
           }
          ]
         },
         "layout": {
          "annotationdefaults": {
           "arrowcolor": "#2a3f5f",
           "arrowhead": 0,
           "arrowwidth": 1
          },
          "autotypenumbers": "strict",
          "coloraxis": {
           "colorbar": {
            "outlinewidth": 0,
            "ticks": ""
           }
          },
          "colorscale": {
           "diverging": [
            [
             0,
             "#8e0152"
            ],
            [
             0.1,
             "#c51b7d"
            ],
            [
             0.2,
             "#de77ae"
            ],
            [
             0.3,
             "#f1b6da"
            ],
            [
             0.4,
             "#fde0ef"
            ],
            [
             0.5,
             "#f7f7f7"
            ],
            [
             0.6,
             "#e6f5d0"
            ],
            [
             0.7,
             "#b8e186"
            ],
            [
             0.8,
             "#7fbc41"
            ],
            [
             0.9,
             "#4d9221"
            ],
            [
             1,
             "#276419"
            ]
           ],
           "sequential": [
            [
             0,
             "#0d0887"
            ],
            [
             0.1111111111111111,
             "#46039f"
            ],
            [
             0.2222222222222222,
             "#7201a8"
            ],
            [
             0.3333333333333333,
             "#9c179e"
            ],
            [
             0.4444444444444444,
             "#bd3786"
            ],
            [
             0.5555555555555556,
             "#d8576b"
            ],
            [
             0.6666666666666666,
             "#ed7953"
            ],
            [
             0.7777777777777778,
             "#fb9f3a"
            ],
            [
             0.8888888888888888,
             "#fdca26"
            ],
            [
             1,
             "#f0f921"
            ]
           ],
           "sequentialminus": [
            [
             0,
             "#0d0887"
            ],
            [
             0.1111111111111111,
             "#46039f"
            ],
            [
             0.2222222222222222,
             "#7201a8"
            ],
            [
             0.3333333333333333,
             "#9c179e"
            ],
            [
             0.4444444444444444,
             "#bd3786"
            ],
            [
             0.5555555555555556,
             "#d8576b"
            ],
            [
             0.6666666666666666,
             "#ed7953"
            ],
            [
             0.7777777777777778,
             "#fb9f3a"
            ],
            [
             0.8888888888888888,
             "#fdca26"
            ],
            [
             1,
             "#f0f921"
            ]
           ]
          },
          "colorway": [
           "#636efa",
           "#EF553B",
           "#00cc96",
           "#ab63fa",
           "#FFA15A",
           "#19d3f3",
           "#FF6692",
           "#B6E880",
           "#FF97FF",
           "#FECB52"
          ],
          "font": {
           "color": "#2a3f5f"
          },
          "geo": {
           "bgcolor": "white",
           "lakecolor": "white",
           "landcolor": "#E5ECF6",
           "showlakes": true,
           "showland": true,
           "subunitcolor": "white"
          },
          "hoverlabel": {
           "align": "left"
          },
          "hovermode": "closest",
          "mapbox": {
           "style": "light"
          },
          "paper_bgcolor": "white",
          "plot_bgcolor": "#E5ECF6",
          "polar": {
           "angularaxis": {
            "gridcolor": "white",
            "linecolor": "white",
            "ticks": ""
           },
           "bgcolor": "#E5ECF6",
           "radialaxis": {
            "gridcolor": "white",
            "linecolor": "white",
            "ticks": ""
           }
          },
          "scene": {
           "xaxis": {
            "backgroundcolor": "#E5ECF6",
            "gridcolor": "white",
            "gridwidth": 2,
            "linecolor": "white",
            "showbackground": true,
            "ticks": "",
            "zerolinecolor": "white"
           },
           "yaxis": {
            "backgroundcolor": "#E5ECF6",
            "gridcolor": "white",
            "gridwidth": 2,
            "linecolor": "white",
            "showbackground": true,
            "ticks": "",
            "zerolinecolor": "white"
           },
           "zaxis": {
            "backgroundcolor": "#E5ECF6",
            "gridcolor": "white",
            "gridwidth": 2,
            "linecolor": "white",
            "showbackground": true,
            "ticks": "",
            "zerolinecolor": "white"
           }
          },
          "shapedefaults": {
           "line": {
            "color": "#2a3f5f"
           }
          },
          "ternary": {
           "aaxis": {
            "gridcolor": "white",
            "linecolor": "white",
            "ticks": ""
           },
           "baxis": {
            "gridcolor": "white",
            "linecolor": "white",
            "ticks": ""
           },
           "bgcolor": "#E5ECF6",
           "caxis": {
            "gridcolor": "white",
            "linecolor": "white",
            "ticks": ""
           }
          },
          "title": {
           "x": 0.05
          },
          "xaxis": {
           "automargin": true,
           "gridcolor": "white",
           "linecolor": "white",
           "ticks": "",
           "title": {
            "standoff": 15
           },
           "zerolinecolor": "white",
           "zerolinewidth": 2
          },
          "yaxis": {
           "automargin": true,
           "gridcolor": "white",
           "linecolor": "white",
           "ticks": "",
           "title": {
            "standoff": 15
           },
           "zerolinecolor": "white",
           "zerolinewidth": 2
          }
         }
        },
        "updatemenus": [
         {
          "active": 0,
          "buttons": [
           {
            "args": [
             {
              "visible": [
               true,
               true
              ]
             },
             {
              "title": "Both"
             }
            ],
            "label": "Both",
            "method": "update"
           },
           {
            "args": [
             {
              "visible": [
               true,
               false
              ]
             },
             {
              "title": "Data 1"
             }
            ],
            "label": "Data 1",
            "method": "update"
           },
           {
            "args": [
             {
              "visible": [
               false,
               true
              ]
             },
             {
              "title": "Data 2"
             }
            ],
            "label": "Data 2",
            "method": "update"
           }
          ]
         }
        ]
       }
      },
      "text/html": [
       "<div>                            <div id=\"96a64e2c-c30f-496a-b73b-a798d442d378\" class=\"plotly-graph-div\" style=\"height:525px; width:100%;\"></div>            <script type=\"text/javascript\">                require([\"plotly\"], function(Plotly) {                    window.PLOTLYENV=window.PLOTLYENV || {};                                    if (document.getElementById(\"96a64e2c-c30f-496a-b73b-a798d442d378\")) {                    Plotly.newPlot(                        \"96a64e2c-c30f-496a-b73b-a798d442d378\",                        [{\"name\":\"Data 1\",\"type\":\"bar\",\"x\":[\"A\",\"B\",\"C\",\"D\"],\"y\":[100,200,500,673]},{\"name\":\"Data 2\",\"type\":\"bar\",\"x\":[\"A\",\"B\",\"C\",\"D\"],\"y\":[56,123,982,213]}],                        {\"template\":{\"data\":{\"bar\":[{\"error_x\":{\"color\":\"#2a3f5f\"},\"error_y\":{\"color\":\"#2a3f5f\"},\"marker\":{\"line\":{\"color\":\"#E5ECF6\",\"width\":0.5},\"pattern\":{\"fillmode\":\"overlay\",\"size\":10,\"solidity\":0.2}},\"type\":\"bar\"}],\"barpolar\":[{\"marker\":{\"line\":{\"color\":\"#E5ECF6\",\"width\":0.5},\"pattern\":{\"fillmode\":\"overlay\",\"size\":10,\"solidity\":0.2}},\"type\":\"barpolar\"}],\"carpet\":[{\"aaxis\":{\"endlinecolor\":\"#2a3f5f\",\"gridcolor\":\"white\",\"linecolor\":\"white\",\"minorgridcolor\":\"white\",\"startlinecolor\":\"#2a3f5f\"},\"baxis\":{\"endlinecolor\":\"#2a3f5f\",\"gridcolor\":\"white\",\"linecolor\":\"white\",\"minorgridcolor\":\"white\",\"startlinecolor\":\"#2a3f5f\"},\"type\":\"carpet\"}],\"choropleth\":[{\"colorbar\":{\"outlinewidth\":0,\"ticks\":\"\"},\"type\":\"choropleth\"}],\"contour\":[{\"colorbar\":{\"outlinewidth\":0,\"ticks\":\"\"},\"colorscale\":[[0.0,\"#0d0887\"],[0.1111111111111111,\"#46039f\"],[0.2222222222222222,\"#7201a8\"],[0.3333333333333333,\"#9c179e\"],[0.4444444444444444,\"#bd3786\"],[0.5555555555555556,\"#d8576b\"],[0.6666666666666666,\"#ed7953\"],[0.7777777777777778,\"#fb9f3a\"],[0.8888888888888888,\"#fdca26\"],[1.0,\"#f0f921\"]],\"type\":\"contour\"}],\"contourcarpet\":[{\"colorbar\":{\"outlinewidth\":0,\"ticks\":\"\"},\"type\":\"contourcarpet\"}],\"heatmap\":[{\"colorbar\":{\"outlinewidth\":0,\"ticks\":\"\"},\"colorscale\":[[0.0,\"#0d0887\"],[0.1111111111111111,\"#46039f\"],[0.2222222222222222,\"#7201a8\"],[0.3333333333333333,\"#9c179e\"],[0.4444444444444444,\"#bd3786\"],[0.5555555555555556,\"#d8576b\"],[0.6666666666666666,\"#ed7953\"],[0.7777777777777778,\"#fb9f3a\"],[0.8888888888888888,\"#fdca26\"],[1.0,\"#f0f921\"]],\"type\":\"heatmap\"}],\"heatmapgl\":[{\"colorbar\":{\"outlinewidth\":0,\"ticks\":\"\"},\"colorscale\":[[0.0,\"#0d0887\"],[0.1111111111111111,\"#46039f\"],[0.2222222222222222,\"#7201a8\"],[0.3333333333333333,\"#9c179e\"],[0.4444444444444444,\"#bd3786\"],[0.5555555555555556,\"#d8576b\"],[0.6666666666666666,\"#ed7953\"],[0.7777777777777778,\"#fb9f3a\"],[0.8888888888888888,\"#fdca26\"],[1.0,\"#f0f921\"]],\"type\":\"heatmapgl\"}],\"histogram\":[{\"marker\":{\"pattern\":{\"fillmode\":\"overlay\",\"size\":10,\"solidity\":0.2}},\"type\":\"histogram\"}],\"histogram2d\":[{\"colorbar\":{\"outlinewidth\":0,\"ticks\":\"\"},\"colorscale\":[[0.0,\"#0d0887\"],[0.1111111111111111,\"#46039f\"],[0.2222222222222222,\"#7201a8\"],[0.3333333333333333,\"#9c179e\"],[0.4444444444444444,\"#bd3786\"],[0.5555555555555556,\"#d8576b\"],[0.6666666666666666,\"#ed7953\"],[0.7777777777777778,\"#fb9f3a\"],[0.8888888888888888,\"#fdca26\"],[1.0,\"#f0f921\"]],\"type\":\"histogram2d\"}],\"histogram2dcontour\":[{\"colorbar\":{\"outlinewidth\":0,\"ticks\":\"\"},\"colorscale\":[[0.0,\"#0d0887\"],[0.1111111111111111,\"#46039f\"],[0.2222222222222222,\"#7201a8\"],[0.3333333333333333,\"#9c179e\"],[0.4444444444444444,\"#bd3786\"],[0.5555555555555556,\"#d8576b\"],[0.6666666666666666,\"#ed7953\"],[0.7777777777777778,\"#fb9f3a\"],[0.8888888888888888,\"#fdca26\"],[1.0,\"#f0f921\"]],\"type\":\"histogram2dcontour\"}],\"mesh3d\":[{\"colorbar\":{\"outlinewidth\":0,\"ticks\":\"\"},\"type\":\"mesh3d\"}],\"parcoords\":[{\"line\":{\"colorbar\":{\"outlinewidth\":0,\"ticks\":\"\"}},\"type\":\"parcoords\"}],\"pie\":[{\"automargin\":true,\"type\":\"pie\"}],\"scatter\":[{\"marker\":{\"colorbar\":{\"outlinewidth\":0,\"ticks\":\"\"}},\"type\":\"scatter\"}],\"scatter3d\":[{\"line\":{\"colorbar\":{\"outlinewidth\":0,\"ticks\":\"\"}},\"marker\":{\"colorbar\":{\"outlinewidth\":0,\"ticks\":\"\"}},\"type\":\"scatter3d\"}],\"scattercarpet\":[{\"marker\":{\"colorbar\":{\"outlinewidth\":0,\"ticks\":\"\"}},\"type\":\"scattercarpet\"}],\"scattergeo\":[{\"marker\":{\"colorbar\":{\"outlinewidth\":0,\"ticks\":\"\"}},\"type\":\"scattergeo\"}],\"scattergl\":[{\"marker\":{\"colorbar\":{\"outlinewidth\":0,\"ticks\":\"\"}},\"type\":\"scattergl\"}],\"scattermapbox\":[{\"marker\":{\"colorbar\":{\"outlinewidth\":0,\"ticks\":\"\"}},\"type\":\"scattermapbox\"}],\"scatterpolar\":[{\"marker\":{\"colorbar\":{\"outlinewidth\":0,\"ticks\":\"\"}},\"type\":\"scatterpolar\"}],\"scatterpolargl\":[{\"marker\":{\"colorbar\":{\"outlinewidth\":0,\"ticks\":\"\"}},\"type\":\"scatterpolargl\"}],\"scatterternary\":[{\"marker\":{\"colorbar\":{\"outlinewidth\":0,\"ticks\":\"\"}},\"type\":\"scatterternary\"}],\"surface\":[{\"colorbar\":{\"outlinewidth\":0,\"ticks\":\"\"},\"colorscale\":[[0.0,\"#0d0887\"],[0.1111111111111111,\"#46039f\"],[0.2222222222222222,\"#7201a8\"],[0.3333333333333333,\"#9c179e\"],[0.4444444444444444,\"#bd3786\"],[0.5555555555555556,\"#d8576b\"],[0.6666666666666666,\"#ed7953\"],[0.7777777777777778,\"#fb9f3a\"],[0.8888888888888888,\"#fdca26\"],[1.0,\"#f0f921\"]],\"type\":\"surface\"}],\"table\":[{\"cells\":{\"fill\":{\"color\":\"#EBF0F8\"},\"line\":{\"color\":\"white\"}},\"header\":{\"fill\":{\"color\":\"#C8D4E3\"},\"line\":{\"color\":\"white\"}},\"type\":\"table\"}]},\"layout\":{\"annotationdefaults\":{\"arrowcolor\":\"#2a3f5f\",\"arrowhead\":0,\"arrowwidth\":1},\"autotypenumbers\":\"strict\",\"coloraxis\":{\"colorbar\":{\"outlinewidth\":0,\"ticks\":\"\"}},\"colorscale\":{\"diverging\":[[0,\"#8e0152\"],[0.1,\"#c51b7d\"],[0.2,\"#de77ae\"],[0.3,\"#f1b6da\"],[0.4,\"#fde0ef\"],[0.5,\"#f7f7f7\"],[0.6,\"#e6f5d0\"],[0.7,\"#b8e186\"],[0.8,\"#7fbc41\"],[0.9,\"#4d9221\"],[1,\"#276419\"]],\"sequential\":[[0.0,\"#0d0887\"],[0.1111111111111111,\"#46039f\"],[0.2222222222222222,\"#7201a8\"],[0.3333333333333333,\"#9c179e\"],[0.4444444444444444,\"#bd3786\"],[0.5555555555555556,\"#d8576b\"],[0.6666666666666666,\"#ed7953\"],[0.7777777777777778,\"#fb9f3a\"],[0.8888888888888888,\"#fdca26\"],[1.0,\"#f0f921\"]],\"sequentialminus\":[[0.0,\"#0d0887\"],[0.1111111111111111,\"#46039f\"],[0.2222222222222222,\"#7201a8\"],[0.3333333333333333,\"#9c179e\"],[0.4444444444444444,\"#bd3786\"],[0.5555555555555556,\"#d8576b\"],[0.6666666666666666,\"#ed7953\"],[0.7777777777777778,\"#fb9f3a\"],[0.8888888888888888,\"#fdca26\"],[1.0,\"#f0f921\"]]},\"colorway\":[\"#636efa\",\"#EF553B\",\"#00cc96\",\"#ab63fa\",\"#FFA15A\",\"#19d3f3\",\"#FF6692\",\"#B6E880\",\"#FF97FF\",\"#FECB52\"],\"font\":{\"color\":\"#2a3f5f\"},\"geo\":{\"bgcolor\":\"white\",\"lakecolor\":\"white\",\"landcolor\":\"#E5ECF6\",\"showlakes\":true,\"showland\":true,\"subunitcolor\":\"white\"},\"hoverlabel\":{\"align\":\"left\"},\"hovermode\":\"closest\",\"mapbox\":{\"style\":\"light\"},\"paper_bgcolor\":\"white\",\"plot_bgcolor\":\"#E5ECF6\",\"polar\":{\"angularaxis\":{\"gridcolor\":\"white\",\"linecolor\":\"white\",\"ticks\":\"\"},\"bgcolor\":\"#E5ECF6\",\"radialaxis\":{\"gridcolor\":\"white\",\"linecolor\":\"white\",\"ticks\":\"\"}},\"scene\":{\"xaxis\":{\"backgroundcolor\":\"#E5ECF6\",\"gridcolor\":\"white\",\"gridwidth\":2,\"linecolor\":\"white\",\"showbackground\":true,\"ticks\":\"\",\"zerolinecolor\":\"white\"},\"yaxis\":{\"backgroundcolor\":\"#E5ECF6\",\"gridcolor\":\"white\",\"gridwidth\":2,\"linecolor\":\"white\",\"showbackground\":true,\"ticks\":\"\",\"zerolinecolor\":\"white\"},\"zaxis\":{\"backgroundcolor\":\"#E5ECF6\",\"gridcolor\":\"white\",\"gridwidth\":2,\"linecolor\":\"white\",\"showbackground\":true,\"ticks\":\"\",\"zerolinecolor\":\"white\"}},\"shapedefaults\":{\"line\":{\"color\":\"#2a3f5f\"}},\"ternary\":{\"aaxis\":{\"gridcolor\":\"white\",\"linecolor\":\"white\",\"ticks\":\"\"},\"baxis\":{\"gridcolor\":\"white\",\"linecolor\":\"white\",\"ticks\":\"\"},\"bgcolor\":\"#E5ECF6\",\"caxis\":{\"gridcolor\":\"white\",\"linecolor\":\"white\",\"ticks\":\"\"}},\"title\":{\"x\":0.05},\"xaxis\":{\"automargin\":true,\"gridcolor\":\"white\",\"linecolor\":\"white\",\"ticks\":\"\",\"title\":{\"standoff\":15},\"zerolinecolor\":\"white\",\"zerolinewidth\":2},\"yaxis\":{\"automargin\":true,\"gridcolor\":\"white\",\"linecolor\":\"white\",\"ticks\":\"\",\"title\":{\"standoff\":15},\"zerolinecolor\":\"white\",\"zerolinewidth\":2}}},\"updatemenus\":[{\"active\":0,\"buttons\":[{\"args\":[{\"visible\":[true,true]},{\"title\":\"Both\"}],\"label\":\"Both\",\"method\":\"update\"},{\"args\":[{\"visible\":[true,false]},{\"title\":\"Data 1\"}],\"label\":\"Data 1\",\"method\":\"update\"},{\"args\":[{\"visible\":[false,true]},{\"title\":\"Data 2\"}],\"label\":\"Data 2\",\"method\":\"update\"}]}]},                        {\"responsive\": true}                    ).then(function(){\n",
       "                            \n",
       "var gd = document.getElementById('96a64e2c-c30f-496a-b73b-a798d442d378');\n",
       "var x = new MutationObserver(function (mutations, observer) {{\n",
       "        var display = window.getComputedStyle(gd).display;\n",
       "        if (!display || display === 'none') {{\n",
       "            console.log([gd, 'removed!']);\n",
       "            Plotly.purge(gd);\n",
       "            observer.disconnect();\n",
       "        }}\n",
       "}});\n",
       "\n",
       "// Listen for the removal of the full notebook cells\n",
       "var notebookContainer = gd.closest('#notebook-container');\n",
       "if (notebookContainer) {{\n",
       "    x.observe(notebookContainer, {childList: true});\n",
       "}}\n",
       "\n",
       "// Listen for the clearing of the current output cell\n",
       "var outputEl = gd.closest('.output');\n",
       "if (outputEl) {{\n",
       "    x.observe(outputEl, {childList: true});\n",
       "}}\n",
       "\n",
       "                        })                };                });            </script>        </div>"
      ]
     },
     "metadata": {},
     "output_type": "display_data"
    }
   ],
   "source": []
  },
  {
   "cell_type": "code",
   "execution_count": null,
   "id": "6a62b176",
   "metadata": {},
   "outputs": [],
   "source": []
  },
  {
   "cell_type": "code",
   "execution_count": null,
   "id": "3f8e5326",
   "metadata": {},
   "outputs": [],
   "source": []
  },
  {
   "cell_type": "code",
   "execution_count": null,
   "id": "10d43559",
   "metadata": {},
   "outputs": [],
   "source": []
  },
  {
   "cell_type": "code",
   "execution_count": null,
   "id": "3e448ef1",
   "metadata": {},
   "outputs": [],
   "source": []
  },
  {
   "cell_type": "code",
   "execution_count": null,
   "id": "a58f8d45",
   "metadata": {},
   "outputs": [],
   "source": []
  },
  {
   "cell_type": "code",
   "execution_count": null,
   "id": "c1c22342",
   "metadata": {},
   "outputs": [],
   "source": []
  },
  {
   "cell_type": "code",
   "execution_count": null,
   "id": "ce02c81e",
   "metadata": {},
   "outputs": [],
   "source": []
  },
  {
   "cell_type": "code",
   "execution_count": null,
   "id": "9f78b9ee",
   "metadata": {},
   "outputs": [],
   "source": []
  },
  {
   "cell_type": "code",
   "execution_count": null,
   "id": "a18a84e0",
   "metadata": {},
   "outputs": [],
   "source": []
  },
  {
   "cell_type": "code",
   "execution_count": null,
   "id": "6e060abc",
   "metadata": {},
   "outputs": [],
   "source": []
  },
  {
   "cell_type": "code",
   "execution_count": null,
   "id": "e28d11cf",
   "metadata": {},
   "outputs": [],
   "source": []
  },
  {
   "cell_type": "code",
   "execution_count": null,
   "id": "90294f54",
   "metadata": {},
   "outputs": [],
   "source": []
  },
  {
   "cell_type": "code",
   "execution_count": null,
   "id": "f0c7b07d",
   "metadata": {},
   "outputs": [],
   "source": []
  },
  {
   "cell_type": "code",
   "execution_count": null,
   "id": "c686a162",
   "metadata": {},
   "outputs": [],
   "source": []
  }
 ],
 "metadata": {
  "kernelspec": {
   "display_name": "Python 3 (ipykernel)",
   "language": "python",
   "name": "python3"
  },
  "language_info": {
   "codemirror_mode": {
    "name": "ipython",
    "version": 3
   },
   "file_extension": ".py",
   "mimetype": "text/x-python",
   "name": "python",
   "nbconvert_exporter": "python",
   "pygments_lexer": "ipython3",
   "version": "3.8.12"
  }
 },
 "nbformat": 4,
 "nbformat_minor": 5
}
